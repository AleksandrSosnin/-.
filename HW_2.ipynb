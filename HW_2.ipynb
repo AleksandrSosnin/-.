{
  "nbformat": 4,
  "nbformat_minor": 0,
  "metadata": {
    "colab": {
      "provenance": [],
      "authorship_tag": "ABX9TyPD8yiYwdwO+4xPrkhv5ooZ",
      "include_colab_link": true
    },
    "kernelspec": {
      "name": "python3",
      "display_name": "Python 3"
    },
    "language_info": {
      "name": "python"
    }
  },
  "cells": [
    {
      "cell_type": "markdown",
      "metadata": {
        "id": "view-in-github",
        "colab_type": "text"
      },
      "source": [
        "<a href=\"https://colab.research.google.com/github/AleksandrSosnin/-./blob/main/HW_2.ipynb\" target=\"_parent\"><img src=\"https://colab.research.google.com/assets/colab-badge.svg\" alt=\"Open In Colab\"/></a>"
      ]
    },
    {
      "cell_type": "code",
      "execution_count": 1,
      "metadata": {
        "id": "DUKDaNCYtqGP"
      },
      "outputs": [],
      "source": [
        "import requests\n",
        "from bs4 import BeautifulSoup\n",
        "import json"
      ]
    },
    {
      "cell_type": "code",
      "source": [
        "def get_html(url):\n",
        "    response = requests.get(url)\n",
        "    return response.text\n",
        "\n",
        "def parse_book_page(html):\n",
        "    soup = BeautifulSoup(html, 'html.parser')\n",
        "    book_data = {}\n",
        "\n",
        "    # Извлечение названия книги\n",
        "    book_data['title'] = soup.find('div', class_='product_main').h1.text\n",
        "\n",
        "    # Извлечение цены книги\n",
        "    price = soup.find('p', class_='price_color').text\n",
        "    # Удаляем символы '£' и 'Â' и преобразуем в число\n",
        "    price = price.replace('£', '').replace('Â', '').strip()\n",
        "    book_data['price'] = float(price)\n",
        "\n",
        "    # Извлечение количества товара в наличии\n",
        "    stock = soup.find('p', class_='instock availability').text.strip()\n",
        "    stock = stock.replace('In stock (', '').replace(' available)', '')\n",
        "    book_data['stock'] = int(stock)\n",
        "\n",
        "    # Извлечение описания книги\n",
        "    description = soup.find('div', id='product_description')\n",
        "    if description:\n",
        "        book_data['description'] = description.find_next_sibling('p').text.strip()\n",
        "    else:\n",
        "        book_data['description'] = ''\n",
        "\n",
        "    return book_data\n",
        "\n",
        "def get_all_books():\n",
        "    base_url = \"http://books.toscrape.com/\"\n",
        "    categories_url = base_url + \"index.html\"\n",
        "\n",
        "    # Получаем список всех категорий\n",
        "    categories_html = get_html(categories_url)\n",
        "    categories_soup = BeautifulSoup(categories_html, 'html.parser')\n",
        "    categories = categories_soup.find('ul', class_='nav nav-list').find_all('a')\n",
        "\n",
        "    all_books = []\n",
        "\n",
        "    for category in categories[1:]:  # Пропускаем первую категорию \"Books\"\n",
        "        category_name = category.text.strip()\n",
        "        category_url = base_url + category['href']\n",
        "\n",
        "        # Проходим по всем страницам категории\n",
        "        while True:\n",
        "            category_html = get_html(category_url)\n",
        "            category_soup = BeautifulSoup(category_html, 'html.parser')\n",
        "\n",
        "            # Извлекаем ссылки на книги\n",
        "            books = category_soup.find_all('h3')\n",
        "            for book in books:\n",
        "                book_url = base_url + 'catalogue/' + book.a['href'].replace('../../../', '')\n",
        "                book_html = get_html(book_url)\n",
        "                book_data = parse_book_page(book_html)\n",
        "                all_books.append(book_data)\n",
        "\n",
        "            # Проверяем, есть ли следующая страница\n",
        "            next_button = category_soup.find('li', class_='next')\n",
        "            if next_button:\n",
        "                next_page_url = next_button.a['href']\n",
        "                category_url = base_url + 'catalogue/' + next_page_url\n",
        "            else:\n",
        "                break\n",
        "\n",
        "    return all_books\n",
        "\n",
        "def save_to_json(data, filename='books.json'):\n",
        "    with open(filename, 'w', encoding='utf-8') as f:\n",
        "        json.dump(data, f, ensure_ascii=False, indent=4)\n",
        "\n",
        "all_books = get_all_books()\n",
        "save_to_json(all_books)"
      ],
      "metadata": {
        "id": "Q_Mp2ZoetzEK"
      },
      "execution_count": 2,
      "outputs": []
    }
  ]
}